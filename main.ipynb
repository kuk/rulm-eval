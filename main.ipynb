{
 "cells": [
  {
   "cell_type": "code",
   "execution_count": 304,
   "id": "31e3b479",
   "metadata": {
    "cellId": "sh7t3oq1f1kvir3sh0p5v8"
   },
   "outputs": [],
   "source": [
    "%run -n main.py\n",
    "lines = read_lines(DOTENV_PATH)\n",
    "pairs = parse_dotenv(lines)\n",
    "os.environ.update(pairs)\n",
    "%run -n main.py"
   ]
  },
  {
   "cell_type": "markdown",
   "id": "d9aca504",
   "metadata": {
    "cellId": "5rmfl8tp8pbsxjzabjm7fa",
    "heading_collapsed": true
   },
   "source": [
    "# rsg scores var"
   ]
  },
  {
   "cell_type": "code",
   "execution_count": null,
   "id": "90afba1c",
   "metadata": {
    "cellId": "thlsth4b8mm2zwfxieiy79",
    "hidden": true
   },
   "outputs": [],
   "source": [
    "%run -n main.py\n",
    "table = pd.DataFrame(RSG_LB)\n",
    "\n",
    "xs, ys = [], []\n",
    "tasks = ['RCB', 'PARus', 'MuSeRC', 'TERRa', 'RUSSE', 'RWSD', 'DaNetQA', 'RuCoS']\n",
    "for task_index, task in enumerate(tasks):\n",
    "    for score in table[task]:\n",
    "        xs.append(score)\n",
    "        ys.append(task_index + random.random() / 10)\n",
    "\n",
    "fig, ax = plt.subplots()\n",
    "ax.scatter(xs, ys, alpha=0.5)\n",
    "ax.set_xlim(0, 1)\n",
    "ax.set_yticks(range(len(tasks)))\n",
    "ax.set_yticklabels(tasks)"
   ]
  },
  {
   "cell_type": "markdown",
   "id": "0a8a48d7",
   "metadata": {
    "cellId": "a33sac1agjgwayk334s5om",
    "heading_collapsed": true
   },
   "source": [
    "# tasks"
   ]
  },
  {
   "cell_type": "markdown",
   "id": "4e27fa87",
   "metadata": {
    "cellId": "h8p98um549b4qoyxhs9dd",
    "hidden": true
   },
   "source": [
    "## terra"
   ]
  },
  {
   "cell_type": "code",
   "execution_count": null,
   "id": "6f7e758d",
   "metadata": {
    "cellId": "6nqq38gm76nyj64iciwbpa",
    "hidden": true
   },
   "outputs": [],
   "source": [
    "path = 'data/rsg/TERRa/val.jsonl'\n",
    "lines = read_lines(path)\n",
    "items = list(parse_jsonl(lines))"
   ]
  },
  {
   "cell_type": "code",
   "execution_count": null,
   "id": "7b1faca8",
   "metadata": {
    "cellId": "is2flhri63ctrhqykiqan",
    "hidden": true
   },
   "outputs": [],
   "source": [
    "random.seed(0)\n",
    "items = (\n",
    "    random.sample([_ for _ in items if _['label'] == 'entailment'], 50)\n",
    "    + random.sample([_ for _ in items if _['label'] == 'not_entailment'], 50)\n",
    ")\n",
    "random.shuffle(items)\n",
    "for item in items:\n",
    "    item['id'] = item.pop('idx')"
   ]
  },
  {
   "cell_type": "code",
   "execution_count": null,
   "id": "7d6b51ba",
   "metadata": {
    "cellId": "ummn9ajmsqf2lfwh0disk",
    "hidden": true
   },
   "outputs": [],
   "source": [
    "lines = format_jsonl(items)\n",
    "write_lines('tasks/terra.jsonl', lines)"
   ]
  },
  {
   "cell_type": "markdown",
   "id": "bb6a4eda",
   "metadata": {
    "cellId": "102ebj9z0q2fhncvcb1hgl6",
    "hidden": true
   },
   "source": [
    "## danetqa"
   ]
  },
  {
   "cell_type": "code",
   "execution_count": null,
   "id": "997227cd",
   "metadata": {
    "cellId": "4t30f2ulbjxud0d8dwj3c",
    "hidden": true
   },
   "outputs": [],
   "source": [
    "path = 'data/rsg/DaNetQA/val.jsonl'\n",
    "lines = read_lines(path)\n",
    "items = list(parse_jsonl(lines))"
   ]
  },
  {
   "cell_type": "code",
   "execution_count": null,
   "id": "6908d7d8",
   "metadata": {
    "cellId": "f0o69fhtwjkt6olzq1zii",
    "hidden": true
   },
   "outputs": [],
   "source": [
    "random.seed(0)\n",
    "items = (\n",
    "    random.sample([_ for _ in items if _['label'] is True], 50)\n",
    "    + random.sample([_ for _ in items if _['label'] is False], 50)\n",
    ")\n",
    "random.shuffle(items)\n",
    "for item in items:\n",
    "    item['id'] = item.pop('idx')"
   ]
  },
  {
   "cell_type": "code",
   "execution_count": null,
   "id": "f98908c1",
   "metadata": {
    "cellId": "181mt4nbdgkm8l82xw28dk",
    "hidden": true
   },
   "outputs": [],
   "source": [
    "lines = format_jsonl(items)\n",
    "write_lines('tasks/danetqa.jsonl', lines)"
   ]
  },
  {
   "cell_type": "markdown",
   "id": "fd6131ec",
   "metadata": {
    "cellId": "anx770sqn2u8tmbm2odp09",
    "hidden": true
   },
   "source": [
    "## parus"
   ]
  },
  {
   "cell_type": "code",
   "execution_count": null,
   "id": "53e45592",
   "metadata": {
    "cellId": "ffnrf9fhlor3oesyp41x73",
    "hidden": true
   },
   "outputs": [],
   "source": [
    "path = 'data/rsg/PARus/val.jsonl'\n",
    "lines = read_lines(path)\n",
    "items = list(parse_jsonl(lines))"
   ]
  },
  {
   "cell_type": "code",
   "execution_count": null,
   "id": "bca06dc1",
   "metadata": {
    "cellId": "k3mf6lmbtvde38ej6duor",
    "hidden": true
   },
   "outputs": [],
   "source": [
    "random.seed(0)\n",
    "items = (\n",
    "    random.sample([_ for _ in items if _['question'] == 'effect'], 48)\n",
    "    + random.sample([_ for _ in items if _['question'] == 'cause'], 52)\n",
    ")\n",
    "random.shuffle(items)\n",
    "for item in items:\n",
    "    item['id'] = item.pop('idx')"
   ]
  },
  {
   "cell_type": "code",
   "execution_count": null,
   "id": "a7d9345d",
   "metadata": {
    "cellId": "rgxaio491vz5xsjyuemv",
    "hidden": true
   },
   "outputs": [],
   "source": [
    "lines = format_jsonl(items)\n",
    "write_lines('tasks/parus.jsonl', lines)"
   ]
  },
  {
   "cell_type": "markdown",
   "id": "d620407e",
   "metadata": {
    "cellId": "6vhjefkg3padbq3v8ys5lk",
    "hidden": true
   },
   "source": [
    "## rwsd"
   ]
  },
  {
   "cell_type": "code",
   "execution_count": null,
   "id": "05055270",
   "metadata": {
    "cellId": "ftjctfz9fnccjqkrp4elwj",
    "hidden": true
   },
   "outputs": [],
   "source": [
    "path = 'data/rsg/RWSD/val.jsonl'\n",
    "lines = read_lines(path)\n",
    "items = list(parse_jsonl(lines))"
   ]
  },
  {
   "cell_type": "code",
   "execution_count": null,
   "id": "a7663af9",
   "metadata": {
    "cellId": "1d91wwt1n6hxq5n8ebatzs",
    "hidden": true
   },
   "outputs": [],
   "source": [
    "random.seed(0)\n",
    "items = (\n",
    "    random.sample([_ for _ in items if _['label'] == True], 50)\n",
    "    + random.sample([_ for _ in items if _['label'] == False], 50)\n",
    ")\n",
    "random.shuffle(items)\n",
    "for item in items:\n",
    "    item['id'] = item.pop('idx')"
   ]
  },
  {
   "cell_type": "code",
   "execution_count": null,
   "id": "b20a8c29",
   "metadata": {
    "cellId": "i4su4nzb62qc5anbuf27a",
    "hidden": true
   },
   "outputs": [],
   "source": [
    "lines = format_jsonl(items)\n",
    "write_lines('tasks/rwsd.jsonl', lines)"
   ]
  },
  {
   "cell_type": "markdown",
   "id": "7386c217",
   "metadata": {
    "cellId": "sj6qgu1ql0a99k3bbgwqse",
    "hidden": true
   },
   "source": [
    "## russe"
   ]
  },
  {
   "cell_type": "code",
   "execution_count": null,
   "id": "b61bd6c8",
   "metadata": {
    "cellId": "hk27mz8a43wrf5srkvml4",
    "hidden": true
   },
   "outputs": [],
   "source": [
    "path = 'data/rsg/RUSSE/val.jsonl'\n",
    "lines = read_lines(path)\n",
    "items = list(parse_jsonl(lines))"
   ]
  },
  {
   "cell_type": "code",
   "execution_count": null,
   "id": "a72b0252",
   "metadata": {
    "cellId": "cvpn03p4s07xreknav25o",
    "hidden": true
   },
   "outputs": [],
   "source": [
    "random.seed(0)\n",
    "items = (\n",
    "    random.sample([_ for _ in items if _['label'] == True], 50)\n",
    "    + random.sample([_ for _ in items if _['label'] == False], 50)\n",
    ")\n",
    "random.shuffle(items)\n",
    "for item in items:\n",
    "    item['id'] = item.pop('idx')"
   ]
  },
  {
   "cell_type": "code",
   "execution_count": null,
   "id": "a269a610",
   "metadata": {
    "cellId": "sm4lbozxizj888di1rag4p",
    "hidden": true
   },
   "outputs": [],
   "source": [
    "lines = format_jsonl(items)\n",
    "write_lines('tasks/russe.jsonl', lines)"
   ]
  },
  {
   "cell_type": "markdown",
   "id": "5614d5ed",
   "metadata": {
    "cellId": "o4a518d0rsz74ijxew2ed",
    "hidden": true
   },
   "source": [
    "## rucola"
   ]
  },
  {
   "cell_type": "code",
   "execution_count": null,
   "id": "57ec486c",
   "metadata": {
    "cellId": "len7j4gfvicrafq92urxn",
    "hidden": true
   },
   "outputs": [],
   "source": [
    "path = 'data/rucola/out_of_domain_dev.csv'\n",
    "items = list(read_csv(path))"
   ]
  },
  {
   "cell_type": "code",
   "execution_count": null,
   "id": "f46a0c44",
   "metadata": {
    "cellId": "grm3kcd87681ao7jwedug5",
    "hidden": true
   },
   "outputs": [],
   "source": [
    "random.seed(0)\n",
    "items = (\n",
    "    random.sample([_ for _ in items if _['acceptable'] == '0' and _['error_type'] == 'Hallucination'], 50)\n",
    "    + random.sample([_ for _ in items if _['acceptable'] == '1'], 50)\n",
    ")\n",
    "random.shuffle(items)\n",
    "for item in items:\n",
    "    item['label'] = item.pop('acceptable')"
   ]
  },
  {
   "cell_type": "code",
   "execution_count": null,
   "id": "fc0bfae3",
   "metadata": {
    "cellId": "uhcsac7vyvwi92t4ddinq",
    "hidden": true
   },
   "outputs": [],
   "source": [
    "lines = format_jsonl(items)\n",
    "write_lines('tasks/rucola.jsonl', lines)"
   ]
  },
  {
   "cell_type": "markdown",
   "id": "3eca948b",
   "metadata": {
    "cellId": "bgksjtp820in7r53y17gwf"
   },
   "source": [
    "# eval apis"
   ]
  },
  {
   "cell_type": "code",
   "execution_count": null,
   "id": "7f2a1e6f",
   "metadata": {
    "cellId": "sz3o2cf8xwaimruaontfkk"
   },
   "outputs": [],
   "source": [
    "%run -n main.py\n",
    "task = DANETQA\n",
    "eval = f'17_curie_{task}'"
   ]
  },
  {
   "cell_type": "code",
   "execution_count": null,
   "id": "1950e98d",
   "metadata": {
    "cellId": "1p18uo6m02tut82kfol4a"
   },
   "outputs": [],
   "source": [
    "%run -n main.py\n",
    "lines = read_lines(f'tasks/{task}.jsonl')\n",
    "task_items = list(parse_jsonl(lines))"
   ]
  },
  {
   "cell_type": "code",
   "execution_count": null,
   "id": "539afe80",
   "metadata": {
    "cellId": "j0f8gcrc8w9mr0hp3piaq"
   },
   "outputs": [],
   "source": [
    "%run -n main.py\n",
    "task_item = random.choice(task_items)\n",
    "prompt = TASK_PROMPTS[task](task_item)\n",
    "print(prompt)"
   ]
  },
  {
   "cell_type": "code",
   "execution_count": null,
   "id": "ab98a491",
   "metadata": {
    "cellId": "15u1na3gwcvr8b8zrd921"
   },
   "outputs": [],
   "source": [
    "%run -n main.py\n",
    "response = openai_completions(prompt, model=TEXT_CURIE_001, stop='---')\n",
    "print(response)"
   ]
  },
  {
   "cell_type": "code",
   "execution_count": null,
   "id": "f24fb5ea",
   "metadata": {
    "cellId": "rr3a5bb59a9qicc2hilcq"
   },
   "outputs": [],
   "source": [
    "path = Path(f'evals/{eval}.jsonl')\n",
    "eval_items = []\n",
    "if path.exists():\n",
    "    lines = read_lines(path)\n",
    "    eval_items.extend(parse_jsonl(lines))\n",
    "len(eval_items)"
   ]
  },
  {
   "cell_type": "code",
   "execution_count": null,
   "id": "af103f3d",
   "metadata": {
    "cellId": "oczzjref7gb22hfjw6i0zo"
   },
   "outputs": [],
   "source": [
    "%run -n main.py\n",
    "cache_ids = {_['id'] for _ in eval_items}\n",
    "nocache_task_items = [_ for _ in task_items if _['id'] not in cache_ids]\n",
    "\n",
    "for task_item in log_progress(nocache_task_items):\n",
    "    prompt = TASK_PROMPTS[task](task_item)\n",
    "\n",
    "    response = openai_completions(prompt, model=TEXT_CURIE_001, stop='---')\n",
    "    sleep(2)\n",
    "\n",
    "    # response = openai_chat_completions(prompt, model=GPT_35_TURBO_0301, stop='---')\n",
    "    # sleep(2)\n",
    "\n",
    "    # response = cohere_generate(prompt, end_sequences=['---'])\n",
    "    # sleep(12)\n",
    "\n",
    "    eval_items.append({\n",
    "        'id': task_item['id'],\n",
    "        'response': response\n",
    "    })\n"
   ]
  },
  {
   "cell_type": "code",
   "execution_count": null,
   "id": "6ea96f39",
   "metadata": {
    "cellId": "34low8g66gjf3sqy1r2hhw"
   },
   "outputs": [],
   "source": [
    "eval_items"
   ]
  },
  {
   "cell_type": "code",
   "execution_count": null,
   "id": "71faa06a",
   "metadata": {
    "cellId": "itg3bj7gfz8edxhja1sql"
   },
   "outputs": [],
   "source": [
    "[_['label'] for _ in task_items[:10]]"
   ]
  },
  {
   "cell_type": "code",
   "execution_count": null,
   "id": "c684b175",
   "metadata": {
    "cellId": "krdxhirro6l9xr6ljsov"
   },
   "outputs": [],
   "source": [
    "lines = format_jsonl(eval_items)\n",
    "write_lines(f'evals/{eval}.jsonl', lines)"
   ]
  },
  {
   "cell_type": "markdown",
   "id": "112a0f55",
   "metadata": {
    "cellId": "5wcaqnp65woegdyt2fufuq"
   },
   "source": [
    "# score"
   ]
  },
  {
   "cell_type": "code",
   "execution_count": 317,
   "id": "5bf9b949",
   "metadata": {
    "cellId": "c85zjwfrl12pytz5jdctg"
   },
   "outputs": [
    {
     "data": {
      "text/plain": [
       "{('text-davinci-003', 'terra'): '01_davinci_terra',\n",
       " ('text-davinci-003', 'danetqa'): '02_davinci_danetqa',\n",
       " ('text-davinci-003', 'parus'): '03_davinci_parus',\n",
       " ('gpt-3.5-turbo-0301', 'parus'): '04_turbo_parus',\n",
       " ('gpt-3.5-turbo-0301', 'danetqa'): '05_turbo_danetqa',\n",
       " ('gpt-3.5-turbo-0301', 'terra'): '06_turbo_terra',\n",
       " ('xlarge', 'parus'): '07_cohere_parus',\n",
       " ('xlarge', 'danetqa'): '08_cohere_danetqa',\n",
       " ('xlarge', 'terra'): '09_cohere_terra',\n",
       " ('gpt-3.5-turbo-0301', 'rwsd'): '12_turbo_rwsd',\n",
       " ('gpt-3.5-turbo-0301', 'russe'): '13_turbo_russe',\n",
       " ('gpt-3.5-turbo-0301', 'rucola'): '14_turbo_rucola',\n",
       " ('text-curie-001', 'parus'): '15_curie_parus',\n",
       " ('text-curie-001', 'terra'): '16_curie_terra',\n",
       " ('text-curie-001', 'danetqa'): '17_curie_danetqa',\n",
       " ('sberbank-ai/rugpt3small_based_on_gpt2', 'terra'): '18_rugpt3_small_terra',\n",
       " ('sberbank-ai/rugpt3small_based_on_gpt2',\n",
       "  'danetqa'): '19_rugpt3_small_danetqa',\n",
       " ('sberbank-ai/rugpt3small_based_on_gpt2', 'parus'): '20_rugpt3_small_parus',\n",
       " ('sberbank-ai/rugpt3small_based_on_gpt2', 'rwsd'): '21_rugpt3_small_rwsd',\n",
       " ('sberbank-ai/rugpt3small_based_on_gpt2', 'russe'): '22_rugpt3_small_russe',\n",
       " ('sberbank-ai/rugpt3small_based_on_gpt2', 'rucola'): '23_rugpt3_small_rucola',\n",
       " ('sberbank-ai/rugpt3medium_based_on_gpt2', 'terra'): '24_rugpt3_medium_terra',\n",
       " ('sberbank-ai/rugpt3medium_based_on_gpt2',\n",
       "  'danetqa'): '25_rugpt3_medium_danetqa',\n",
       " ('sberbank-ai/rugpt3medium_based_on_gpt2', 'parus'): '26_rugpt3_medium_parus',\n",
       " ('sberbank-ai/rugpt3medium_based_on_gpt2', 'rwsd'): '27_rugpt3_medium_rwsd',\n",
       " ('sberbank-ai/rugpt3medium_based_on_gpt2', 'russe'): '28_rugpt3_medium_russe',\n",
       " ('sberbank-ai/rugpt3medium_based_on_gpt2',\n",
       "  'rucola'): '29_rugpt3_medium_rucola',\n",
       " ('sberbank-ai/rugpt3large_based_on_gpt2', 'terra'): '30_rugpt3_large_terra',\n",
       " ('sberbank-ai/rugpt3large_based_on_gpt2',\n",
       "  'danetqa'): '31_rugpt3_large_danetqa',\n",
       " ('sberbank-ai/rugpt3large_based_on_gpt2', 'parus'): '32_rugpt3_large_parus',\n",
       " ('sberbank-ai/rugpt3large_based_on_gpt2', 'rwsd'): '33_rugpt3_large_rwsd',\n",
       " ('sberbank-ai/rugpt3large_based_on_gpt2', 'russe'): '34_rugpt3_large_russe',\n",
       " ('sberbank-ai/rugpt3large_based_on_gpt2', 'rucola'): '35_rugpt3_large_rucola',\n",
       " ('facebook/xglm-1.7B', 'terra'): '36_xglm1_terra',\n",
       " ('facebook/xglm-1.7B', 'danetqa'): '37_xglm1_danetqa',\n",
       " ('facebook/xglm-1.7B', 'parus'): '38_xglm1_parus',\n",
       " ('facebook/xglm-1.7B', 'rwsd'): '39_xglm1_rwsd',\n",
       " ('facebook/xglm-1.7B', 'russe'): '40_xglm1_russe',\n",
       " ('facebook/xglm-1.7B', 'rucola'): '41_xglm1_rucola',\n",
       " ('facebook/xglm-2.9B', 'terra'): '42_xglm2_terra',\n",
       " ('facebook/xglm-2.9B', 'danetqa'): '43_xglm2_danetqa',\n",
       " ('facebook/xglm-2.9B', 'parus'): '44_xglm2_parus',\n",
       " ('facebook/xglm-2.9B', 'rwsd'): '45_xglm2_rwsd',\n",
       " ('facebook/xglm-2.9B', 'russe'): '46_xglm2_russe',\n",
       " ('facebook/xglm-2.9B', 'rucola'): '47_xglm2_rucola',\n",
       " ('facebook/xglm-4.5B', 'terra'): '48_xglm4_terra',\n",
       " ('facebook/xglm-4.5B', 'danetqa'): '49_xglm4_danetqa',\n",
       " ('facebook/xglm-4.5B', 'parus'): '50_xglm4_parus',\n",
       " ('facebook/xglm-4.5B', 'rwsd'): '51_xglm4_rwsd',\n",
       " ('facebook/xglm-4.5B', 'russe'): '52_xglm4_russe',\n",
       " ('facebook/xglm-4.5B', 'rucola'): '53_xglm4_rucola',\n",
       " ('AlexWortega/instruct_rugptSmall', 'terra'): '54_instruct_small_terra',\n",
       " ('AlexWortega/instruct_rugptSmall', 'danetqa'): '55_instruct_small_danetqa',\n",
       " ('AlexWortega/instruct_rugptSmall', 'parus'): '56_instruct_small_parus',\n",
       " ('AlexWortega/instruct_rugptSmall', 'rwsd'): '57_instruct_small_rwsd',\n",
       " ('AlexWortega/instruct_rugptSmall', 'russe'): '58_instruct_small_russe',\n",
       " ('AlexWortega/instruct_rugptSmall', 'rucola'): '59_instruct_small_rucola',\n",
       " ('AlexWortega/instruct_rugptMedium', 'terra'): '60_instruct_medium_terra',\n",
       " ('AlexWortega/instruct_rugptMedium', 'danetqa'): '61_instruct_medium_danetqa',\n",
       " ('AlexWortega/instruct_rugptMedium', 'parus'): '62_instruct_medium_parus',\n",
       " ('AlexWortega/instruct_rugptMedium', 'rwsd'): '63_instruct_medium_rwsd',\n",
       " ('AlexWortega/instruct_rugptMedium', 'russe'): '64_instruct_medium_russe',\n",
       " ('AlexWortega/instruct_rugptMedium', 'rucola'): '65_instruct_medium_rucola',\n",
       " ('bs-la/bloom-1b7_ru_continual-pretrain_100000samples_-1vocab_original',\n",
       "  'terra'): '66_bloom_ru_terra',\n",
       " ('bs-la/bloom-1b7_ru_continual-pretrain_100000samples_-1vocab_original',\n",
       "  'danetqa'): '67_bloom_ru_danetqa',\n",
       " ('bs-la/bloom-1b7_ru_continual-pretrain_100000samples_-1vocab_original',\n",
       "  'parus'): '68_bloom_ru_parus',\n",
       " ('bs-la/bloom-1b7_ru_continual-pretrain_100000samples_-1vocab_original',\n",
       "  'rwsd'): '69_bloom_ru_rwsd',\n",
       " ('bs-la/bloom-1b7_ru_continual-pretrain_100000samples_-1vocab_original',\n",
       "  'russe'): '70_bloom_ru_russe',\n",
       " ('bs-la/bloom-1b7_ru_continual-pretrain_100000samples_-1vocab_original',\n",
       "  'rucola'): '71_bloom_ru_rucola'}"
      ]
     },
     "execution_count": 317,
     "metadata": {},
     "output_type": "execute_result"
    }
   ],
   "source": [
    "%run -n main.py\n",
    "MODEL_TASK_EVALS"
   ]
  },
  {
   "cell_type": "code",
   "execution_count": 318,
   "id": "aba74146",
   "metadata": {
    "cellId": "ultoer6llqqmtjm8o5uo9"
   },
   "outputs": [
    {
     "data": {
      "text/html": [
       "<div>\n",
       "<style scoped>\n",
       "    .dataframe tbody tr th:only-of-type {\n",
       "        vertical-align: middle;\n",
       "    }\n",
       "\n",
       "    .dataframe tbody tr th {\n",
       "        vertical-align: top;\n",
       "    }\n",
       "\n",
       "    .dataframe thead th {\n",
       "        text-align: right;\n",
       "    }\n",
       "</style>\n",
       "<table border=\"1\" class=\"dataframe\">\n",
       "  <thead>\n",
       "    <tr style=\"text-align: right;\">\n",
       "      <th>task</th>\n",
       "      <th>terra</th>\n",
       "      <th>danetqa</th>\n",
       "      <th>parus</th>\n",
       "      <th>rwsd</th>\n",
       "      <th>russe</th>\n",
       "      <th>rucola</th>\n",
       "    </tr>\n",
       "    <tr>\n",
       "      <th>model</th>\n",
       "      <th></th>\n",
       "      <th></th>\n",
       "      <th></th>\n",
       "      <th></th>\n",
       "      <th></th>\n",
       "      <th></th>\n",
       "    </tr>\n",
       "  </thead>\n",
       "  <tbody>\n",
       "    <tr>\n",
       "      <th>human</th>\n",
       "      <td>0.92</td>\n",
       "      <td>0.915</td>\n",
       "      <td>0.982</td>\n",
       "      <td>0.84</td>\n",
       "      <td>0.805</td>\n",
       "      <td>0.84</td>\n",
       "    </tr>\n",
       "    <tr>\n",
       "      <th>sota</th>\n",
       "      <td>0.877</td>\n",
       "      <td>0.917</td>\n",
       "      <td>0.908</td>\n",
       "      <td>0.675</td>\n",
       "      <td>0.823</td>\n",
       "      <td>0.82</td>\n",
       "    </tr>\n",
       "    <tr>\n",
       "      <th>openai/turbo</th>\n",
       "      <td>0.86</td>\n",
       "      <td>0.82, 3!</td>\n",
       "      <td>0.91, 8!</td>\n",
       "      <td>0.79</td>\n",
       "      <td>0.68</td>\n",
       "      <td>0.53</td>\n",
       "    </tr>\n",
       "    <tr>\n",
       "      <th>openai/davinci</th>\n",
       "      <td>0.91</td>\n",
       "      <td>0.79</td>\n",
       "      <td>0.93</td>\n",
       "      <td>-</td>\n",
       "      <td>-</td>\n",
       "      <td>-</td>\n",
       "    </tr>\n",
       "    <tr>\n",
       "      <th>openai/curie</th>\n",
       "      <td>0.57</td>\n",
       "      <td>0.71, 1!</td>\n",
       "      <td>0.60</td>\n",
       "      <td>-</td>\n",
       "      <td>-</td>\n",
       "      <td>-</td>\n",
       "    </tr>\n",
       "    <tr>\n",
       "      <th>cohere/xlarge</th>\n",
       "      <td>0.72</td>\n",
       "      <td>0.50</td>\n",
       "      <td>0.54</td>\n",
       "      <td>-</td>\n",
       "      <td>-</td>\n",
       "      <td>-</td>\n",
       "    </tr>\n",
       "    <tr>\n",
       "      <th>sberbank-ai/rugpt3small_based_on_gpt2</th>\n",
       "      <td>0.66, 71!</td>\n",
       "      <td>0.61, 36!</td>\n",
       "      <td>0.51, 51!</td>\n",
       "      <td>0.32, 59!</td>\n",
       "      <td>0.57, 54!</td>\n",
       "      <td>0.48, 46!</td>\n",
       "    </tr>\n",
       "    <tr>\n",
       "      <th>sberbank-ai/rugpt3medium_based_on_gpt2</th>\n",
       "      <td>0.48, 25!</td>\n",
       "      <td>0.54, 28!</td>\n",
       "      <td>0.70, 67!</td>\n",
       "      <td>0.55, 16!</td>\n",
       "      <td>0.49, 17!</td>\n",
       "      <td>0.51, 14!</td>\n",
       "    </tr>\n",
       "    <tr>\n",
       "      <th>sberbank-ai/rugpt3large_based_on_gpt2</th>\n",
       "      <td>0.59, 56!</td>\n",
       "      <td>0.51, 27!</td>\n",
       "      <td>0.51, 63!</td>\n",
       "      <td>0.36, 34!</td>\n",
       "      <td>0.52, 42!</td>\n",
       "      <td>0.51, 55!</td>\n",
       "    </tr>\n",
       "    <tr>\n",
       "      <th>facebook/xglm-1.7B</th>\n",
       "      <td>0.56, 84!</td>\n",
       "      <td>0.52, 79!</td>\n",
       "      <td>?, 95!</td>\n",
       "      <td>0.35, 83!</td>\n",
       "      <td>0.31, 84!</td>\n",
       "      <td>0.58, 74!</td>\n",
       "    </tr>\n",
       "    <tr>\n",
       "      <th>facebook/xglm-2.9B</th>\n",
       "      <td>0.54, 72!</td>\n",
       "      <td>0.62, 66!</td>\n",
       "      <td>0.71, 86!</td>\n",
       "      <td>0.41, 71!</td>\n",
       "      <td>0.43, 79!</td>\n",
       "      <td>0.52, 69!</td>\n",
       "    </tr>\n",
       "    <tr>\n",
       "      <th>facebook/xglm-4.5B</th>\n",
       "      <td>0.18, 89!</td>\n",
       "      <td>0.14, 93!</td>\n",
       "      <td>0.62, 87!</td>\n",
       "      <td>0.69, 84!</td>\n",
       "      <td>0.45, 89!</td>\n",
       "      <td>0.50, 90!</td>\n",
       "    </tr>\n",
       "    <tr>\n",
       "      <th>AlexWortega/instruct_rugptSmall</th>\n",
       "      <td>0.67, 97!</td>\n",
       "      <td>0.52, 27!</td>\n",
       "      <td>?, 99!</td>\n",
       "      <td>?, 96!</td>\n",
       "      <td>0.44, 91!</td>\n",
       "      <td>?, 100!</td>\n",
       "    </tr>\n",
       "    <tr>\n",
       "      <th>AlexWortega/instruct_rugptMedium</th>\n",
       "      <td>0.59, 61!</td>\n",
       "      <td>0.46, 17!</td>\n",
       "      <td>0.42, 76!</td>\n",
       "      <td>0.51, 22!</td>\n",
       "      <td>0.55, 44!</td>\n",
       "      <td>0.54, 11!</td>\n",
       "    </tr>\n",
       "    <tr>\n",
       "      <th>bs-la/bloom-1b7_ru_...</th>\n",
       "      <td>0.41, 78!</td>\n",
       "      <td>0.44, 61!</td>\n",
       "      <td>0.50, 98!</td>\n",
       "      <td>0.29, 79!</td>\n",
       "      <td>0.64, 89!</td>\n",
       "      <td>0.55, 67!</td>\n",
       "    </tr>\n",
       "  </tbody>\n",
       "</table>\n",
       "</div>"
      ],
      "text/plain": [
       "task                                        terra  ...     rucola\n",
       "model                                              ...           \n",
       "human                                        0.92  ...       0.84\n",
       "sota                                        0.877  ...       0.82\n",
       "openai/turbo                                 0.86  ...       0.53\n",
       "openai/davinci                               0.91  ...          -\n",
       "openai/curie                                 0.57  ...          -\n",
       "cohere/xlarge                                0.72  ...          -\n",
       "sberbank-ai/rugpt3small_based_on_gpt2   0.66, 71!  ...  0.48, 46!\n",
       "sberbank-ai/rugpt3medium_based_on_gpt2  0.48, 25!  ...  0.51, 14!\n",
       "sberbank-ai/rugpt3large_based_on_gpt2   0.59, 56!  ...  0.51, 55!\n",
       "facebook/xglm-1.7B                      0.56, 84!  ...  0.58, 74!\n",
       "facebook/xglm-2.9B                      0.54, 72!  ...  0.52, 69!\n",
       "facebook/xglm-4.5B                      0.18, 89!  ...  0.50, 90!\n",
       "AlexWortega/instruct_rugptSmall         0.67, 97!  ...    ?, 100!\n",
       "AlexWortega/instruct_rugptMedium        0.59, 61!  ...  0.54, 11!\n",
       "bs-la/bloom-1b7_ru_...                  0.41, 78!  ...  0.55, 67!\n",
       "\n",
       "[15 rows x 6 columns]"
      ]
     },
     "execution_count": 318,
     "metadata": {},
     "output_type": "execute_result"
    }
   ],
   "source": [
    "%run -n main.py\n",
    "model_task_scores = []\n",
    "for (model, task), eval in MODEL_TASK_EVALS.items():\n",
    "    lines = read_lines(f'tasks/{task}.jsonl')\n",
    "    id_targets = {\n",
    "        _['id']: _['label']\n",
    "        for _ in parse_jsonl(lines)\n",
    "    }\n",
    "    \n",
    "    lines = read_lines(f'evals/{eval}.jsonl')\n",
    "    norm_response = NORM_RESPONSES[task]\n",
    "    id_preds = {\n",
    "        _['id']: norm_response(_['response'])\n",
    "        for _ in parse_jsonl(lines)\n",
    "    }\n",
    "    score = acc_score(id_targets, id_preds)\n",
    "    model_task_scores.append((model, task, score))\n",
    "\n",
    "table = scores_table(model_task_scores)\n",
    "table"
   ]
  },
  {
   "cell_type": "code",
   "execution_count": 8,
   "id": "6b8bf857",
   "metadata": {
    "cellId": "qqg9sqg2yrrfmqetv6is1"
   },
   "outputs": [],
   "source": [
    "#!c1.4\n",
    "task = 'parus'\n",
    "eval = '20_rugpt3_small_parus'\n",
    "lines = read_lines(f'tasks/{task}.jsonl')\n",
    "id_targets = {\n",
    "        _['id']: _['label']\n",
    "        for _ in parse_jsonl(lines)\n",
    "}\n",
    "    \n",
    "lines = read_lines(f'evals/{eval}.jsonl')\n",
    "norm_response = NORM_RESPONSES[task]\n",
    "id_preds = {\n",
    "    _['id']: norm_response(_['response'])\n",
    "    for _ in parse_jsonl(lines)\n",
    "}"
   ]
  },
  {
   "cell_type": "code",
   "execution_count": 11,
   "id": "16f14959",
   "metadata": {
    "cellId": "8xu7y7hdi6qnxkcf7km28j"
   },
   "outputs": [
    {
     "data": {
      "text/plain": [
       "{1, 11, 26, 52, 53, 66, 74, 82, 91, 95}"
      ]
     },
     "execution_count": 11,
     "metadata": {},
     "output_type": "execute_result"
    }
   ],
   "source": [
    "set(id_preds) & (set(id_targets))"
   ]
  },
  {
   "cell_type": "code",
   "execution_count": null,
   "id": "179378a3",
   "metadata": {
    "cellId": "n8a980cz3nk6gw21227uad"
   },
   "outputs": [],
   "source": []
  }
 ],
 "metadata": {
  "language_info": {
   "codemirror_mode": {
    "name": "ipython",
    "version": 3
   },
   "file_extension": ".py",
   "mimetype": "text/x-python",
   "name": "python",
   "nbconvert_exporter": "python",
   "pygments_lexer": "ipython3",
   "version": "3.7.7"
  },
  "notebookId": "c17751d3-4b57-40b0-b19b-01f455662e3c",
  "notebookPath": "rulm-eval/main.ipynb"
 },
 "nbformat": 4,
 "nbformat_minor": 5
}
