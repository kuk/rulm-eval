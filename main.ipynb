{
 "cells": [
  {
   "cell_type": "code",
   "execution_count": null,
   "id": "31e3b479",
   "metadata": {
    "cellId": "sh7t3oq1f1kvir3sh0p5v8"
   },
   "outputs": [],
   "source": [
    "%run -n main.py\n",
    "lines = read_lines(DOTENV_PATH)\n",
    "pairs = parse_dotenv(lines)\n",
    "os.environ.update(pairs)\n",
    "%run -n main.py"
   ]
  },
  {
   "cell_type": "markdown",
   "id": "0a8a48d7",
   "metadata": {
    "cellId": "a33sac1agjgwayk334s5om",
    "heading_collapsed": true
   },
   "source": [
    "# tasks"
   ]
  },
  {
   "cell_type": "markdown",
   "id": "4e27fa87",
   "metadata": {
    "cellId": "h8p98um549b4qoyxhs9dd",
    "hidden": true
   },
   "source": [
    "## terra"
   ]
  },
  {
   "cell_type": "code",
   "execution_count": null,
   "id": "6f7e758d",
   "metadata": {
    "cellId": "6nqq38gm76nyj64iciwbpa",
    "hidden": true
   },
   "outputs": [],
   "source": [
    "# {'premise': '\"По словам россиянина, перед ним стояла задача - финишировать впереди \"\"Форс Индии\"\". \"\"Мы начали гонку на покрышках средней жесткости. И я старался отстоять свою позицию на старте, так как все в основном были на мягких шинах\"\".\"',\n",
    "#  'hypothesis': 'Соперники выступали преимущественно на мягких шинах.',\n",
    "#  'label': 'entailment',\n",
    "#  'idx': 104}\n",
    "\n",
    "path = 'data/rsg/TERRa/train.jsonl'\n",
    "lines = read_lines(path)\n",
    "items = list(parse_jsonl(lines))\n",
    "\n",
    "for item in items:\n",
    "    item['id'] = item.pop('idx')\n",
    "    item['target'] = item.pop('label')\n",
    "    \n",
    "items = (\n",
    "    random.sample([_ for _ in items if _['target'] == 'entailment'], 100)\n",
    "    + random.sample([_ for _ in items if _['target'] == 'not_entailment'], 100)\n",
    ")\n",
    "random.shuffle(items)\n",
    "\n",
    "lines = format_jsonl(items[:100])\n",
    "write_lines('tasks/terra/test.jsonl', lines)\n",
    "lines = format_jsonl(items[100:])\n",
    "write_lines('tasks/terra/dev.jsonl', lines)"
   ]
  },
  {
   "cell_type": "markdown",
   "id": "bb6a4eda",
   "metadata": {
    "cellId": "102ebj9z0q2fhncvcb1hgl6",
    "hidden": true
   },
   "source": [
    "## danetqa"
   ]
  },
  {
   "cell_type": "code",
   "execution_count": null,
   "id": "997227cd",
   "metadata": {
    "cellId": "4t30f2ulbjxud0d8dwj3c",
    "hidden": true
   },
   "outputs": [],
   "source": [
    "# {'question': 'Есть ли вода на марсе?',\n",
    "#  'passage': 'Гидросфера Марса — это совокупность водных запасов планеты Марс, представленная водным льдом в полярных шапках Марса, льдом над поверхностью, сезонными ручьями из жидкой воды и возможными резервуарами жидкой воды и водных растворов солей в верхних слоях литосферы Марса. Гидросфера ... е шапки Марса, так как предполагалось, что они могут состоять из водного льда по аналогии с Антарктидой или Гренландией на Земле, однако высказывалась и гипотеза, что это твёрдый диоксид углерода.',\n",
    "#  'label': True,\n",
    "\n",
    "path = 'data/rsg/DaNetQA/train.jsonl'\n",
    "lines = read_lines(path)\n",
    "items = list(parse_jsonl(lines))\n",
    "\n",
    "for item in items:\n",
    "    item['id'] = item.pop('idx')\n",
    "    item['target'] = item.pop('label')\n",
    "    \n",
    "items = (\n",
    "    random.sample([_ for _ in items if _['target'] is True], 100)\n",
    "    + random.sample([_ for _ in items if _['target'] is False], 100)\n",
    ")\n",
    "random.shuffle(items)\n",
    "\n",
    "lines = format_jsonl(items[:100])\n",
    "write_lines('tasks/danetqa/test.jsonl', lines)\n",
    "lines = format_jsonl(items[100:])\n",
    "write_lines('tasks/danetqa/dev.jsonl', lines)"
   ]
  },
  {
   "cell_type": "markdown",
   "id": "fd6131ec",
   "metadata": {
    "cellId": "anx770sqn2u8tmbm2odp09",
    "hidden": true
   },
   "source": [
    "## parus"
   ]
  },
  {
   "cell_type": "code",
   "execution_count": null,
   "id": "53e45592",
   "metadata": {
    "cellId": "ffnrf9fhlor3oesyp41x73",
    "hidden": true
   },
   "outputs": [],
   "source": [
    "# {'premise': 'Я прибралась дома.',\n",
    "#  'choice1': 'Я была завалена работой.',\n",
    "#  'choice2': 'Я ждала друзей.',\n",
    "#  'question': 'cause',\n",
    "#  'label': 1,\n",
    "#  'id': 96}\n",
    "\n",
    "path = 'data/rsg/PARus/train.jsonl'\n",
    "lines = read_lines(path)\n",
    "items = list(parse_jsonl(lines))\n",
    "\n",
    "for item in items:\n",
    "    item['id'] = item.pop('idx')\n",
    "    item['target'] = item.pop('label')\n",
    "\n",
    "items = (\n",
    "    random.sample([_ for _ in items if _['question'] == 'effect'], 100)\n",
    "    + random.sample([_ for _ in items if _['question'] == 'cause'], 100)\n",
    ")\n",
    "random.shuffle(items)\n",
    "\n",
    "lines = format_jsonl(items[:100])\n",
    "write_lines('tasks/parus/test.jsonl', lines)\n",
    "lines = format_jsonl(items[100:])\n",
    "write_lines('tasks/parus/dev.jsonl', lines)"
   ]
  },
  {
   "cell_type": "markdown",
   "id": "d620407e",
   "metadata": {
    "cellId": "6vhjefkg3padbq3v8ys5lk",
    "hidden": true
   },
   "source": [
    "## rwsd"
   ]
  },
  {
   "cell_type": "code",
   "execution_count": null,
   "id": "05055270",
   "metadata": {
    "cellId": "ftjctfz9fnccjqkrp4elwj",
    "hidden": true
   },
   "outputs": [],
   "source": [
    "# {'text': 'Матери Артура и Селесты пришли в город, чтобы забрать их. Они очень рады, что их вернули, но они также ругают их, потому что они убежали.',\n",
    "#  'target': {'span2_index': 8,\n",
    "#   'span1_index': 0,\n",
    "#   'span1_text': 'Матери',\n",
    "#   'span2_text': 'забрать их'},\n",
    "#  'idx': 190,\n",
    "#  'label': False}\n",
    "\n",
    "path = 'data/rsg/RWSD/train.jsonl'\n",
    "lines = read_lines(path)\n",
    "items = list(parse_jsonl(lines))\n",
    "\n",
    "for item in items:\n",
    "    item['id'] = item.pop('idx')\n",
    "    item['target_'] = item.pop('target')\n",
    "    item['target'] = item.pop('label')\n",
    "    \n",
    "items = (\n",
    "    random.sample([_ for _ in items if _['target'] == True], 100)\n",
    "    + random.sample([_ for _ in items if _['target'] == False], 100)\n",
    ")\n",
    "random.shuffle(items)\n",
    "\n",
    "lines = format_jsonl(items[:100])\n",
    "write_lines('tasks/rwsd/test.jsonl', lines)\n",
    "lines = format_jsonl(items[100:])\n",
    "write_lines('tasks/rwsd/dev.jsonl', lines)"
   ]
  },
  {
   "cell_type": "markdown",
   "id": "7386c217",
   "metadata": {
    "cellId": "sj6qgu1ql0a99k3bbgwqse",
    "hidden": true
   },
   "source": [
    "## russe"
   ]
  },
  {
   "cell_type": "code",
   "execution_count": null,
   "id": "b61bd6c8",
   "metadata": {
    "cellId": "hk27mz8a43wrf5srkvml4",
    "hidden": true
   },
   "outputs": [],
   "source": [
    "# {'idx': 4107,\n",
    "#  'word': 'защита',\n",
    "#  'sentence1': 'Как изменится защита Динамо в новом сезоне?',\n",
    "#  'sentence2': 'Обе партии протекали на удивление одинаково: в обеих была разыграна..\n",
    "#  'start1': 14,\n",
    "#  'end1': 21,\n",
    "#  'start2': 80,\n",
    "#  'end2': 87,\n",
    "#  'label': True,\n",
    "#  'gold_sense1': 2,\n",
    "#  'gold_sense2': 2}\n",
    "\n",
    "path = 'data/rsg/RUSSE/train.jsonl'\n",
    "lines = read_lines(path)\n",
    "items = list(parse_jsonl(lines))\n",
    "\n",
    "for item in items:\n",
    "    item['id'] = item.pop('idx')\n",
    "    item['target'] = item.pop('label')\n",
    "    \n",
    "items = (\n",
    "    random.sample([_ for _ in items if _['target'] == True], 100)\n",
    "    + random.sample([_ for _ in items if _['target'] == False], 100)\n",
    ")\n",
    "random.shuffle(items)\n",
    "\n",
    "lines = format_jsonl(items[:100])\n",
    "write_lines('tasks/russe/test.jsonl', lines)\n",
    "lines = format_jsonl(items[100:])\n",
    "write_lines('tasks/russe/dev.jsonl', lines)"
   ]
  },
  {
   "cell_type": "markdown",
   "id": "3b8de264",
   "metadata": {
    "hidden": true
   },
   "source": [
    "## muserc"
   ]
  },
  {
   "cell_type": "code",
   "execution_count": null,
   "id": "fd0aed49",
   "metadata": {
    "hidden": true
   },
   "outputs": [],
   "source": [
    "# [{'idx': 330,\n",
    "#   'passage': {'text': '(1) Бывший главный \n",
    "#    'questions': [{'question': 'Какие выска\n",
    "#      'answers': [{'idx': 8655,\n",
    "#        'text': 'Что ему не близка русская культура, но он любит сибирские морозы.',\n",
    "#        'label': 0},\n",
    "#       {'idx': 8656,\n",
    "#        'text': 'Что Сербия и Черногория - защитники России.',\n",
    "#        'label': 0},\n",
    "#       {'idx': 8657,\n",
    "#        'text': 'Россия — это символ православия. Она всегда была защитником для Сербии и Черногории. Мы воспитаны в любви к России. Мне близка русская культура, ведь мы славянские братья, — сказал Божович.',\n",
    "#        'label': 1},\n",
    "\n",
    "path = 'data/rsg/MuSeRC/train.jsonl'\n",
    "lines = read_lines(path)\n",
    "orig_items = list(parse_jsonl(lines))\n",
    "\n",
    "items = []\n",
    "for orig_item in orig_items:\n",
    "    item = {'id': orig_item['idx']}\n",
    "    passage_data = orig_item['passage']\n",
    "    item['passage'] = passage_data['text']\n",
    "    question_data = random.choice(passage_data['questions'])\n",
    "    item['question'] = question_data['question']\n",
    "    answer_data = random.choice(question_data['answers'])\n",
    "    item['answer'] = answer_data['text']\n",
    "    item['target'] = answer_data['label']\n",
    "    items.append(item)\n",
    "    \n",
    "items = (\n",
    "    random.sample([_ for _ in items if _['target'] == 0], 100)\n",
    "    + random.sample([_ for _ in items if _['target'] == 1], 100)\n",
    ")\n",
    "random.shuffle(items)\n",
    "\n",
    "lines = format_jsonl(items[:100])\n",
    "write_lines('tasks/muserc/test.jsonl', lines)\n",
    "lines = format_jsonl(items[100:])\n",
    "write_lines('tasks/muserc/dev.jsonl', lines)"
   ]
  },
  {
   "cell_type": "markdown",
   "id": "9853e6e8",
   "metadata": {
    "hidden": true
   },
   "source": [
    "## rcb"
   ]
  },
  {
   "cell_type": "code",
   "execution_count": null,
   "id": "d891e716",
   "metadata": {
    "hidden": true
   },
   "outputs": [],
   "source": [
    "# {'premise': 'Эти журналисты просто беда, я тебе скажу. Чума какая-\n",
    "#   'label': 'contradiction',\n",
    "#   'hypothesis': 'Наши картины только повод для их писанины.',\n",
    "#   'verb': 'считать',\n",
    "#   'negation': 'no_negation',\n",
    "#   'genre': 'fiction',\n",
    "#   'idx': 123},\n",
    "\n",
    "path = 'data/rsg/RCB/train.jsonl'\n",
    "lines = read_lines(path)\n",
    "items = list(parse_jsonl(lines))\n",
    "\n",
    "for item in items:\n",
    "    item['id'] = item.pop('idx')\n",
    "    item['target'] = item.pop('label')\n",
    "    \n",
    "items = (\n",
    "    random.sample([_ for _ in items if _['target'] == 'contradiction'], 80)\n",
    "    + random.sample([_ for _ in items if _['target'] == 'entailment'], 80)\n",
    ")\n",
    "random.shuffle(items)\n",
    "\n",
    "lines = format_jsonl(items[:100])\n",
    "write_lines('tasks/rcb/test.jsonl', lines)\n",
    "lines = format_jsonl(items[50:])\n",
    "write_lines('tasks/rcb/dev.jsonl', lines)"
   ]
  },
  {
   "cell_type": "markdown",
   "id": "52324dea",
   "metadata": {
    "hidden": true
   },
   "source": [
    "## rucos"
   ]
  },
  {
   "cell_type": "code",
   "execution_count": null,
   "id": "7fc3ba16",
   "metadata": {
    "hidden": true
   },
   "outputs": [],
   "source": [
    "# [{'idx': 35155,\n",
    "#   'passage': {'text': 'Бывший глава Федеральной таможенной службы (ФТС) Андрей Бельянинов заявил о готовности выполнять любую работу в качестве государственного служащего. Его слова приводит агентство RNS. «Я буду работать там, куда поставит президент [Владимир Путин], могу делать все: могу туалеты мыть, могу быть губернатором. Я человек служивый, всю жизнь служу государству, и как вы поняли из газет, не очень бедный, у меня все в порядке», — сказал Бельянинов. Он также выразил надежду на то, что у главы государства есть планы по его трудоустройству. 29 июля прошлого года официальный представитель Кремля Дмитрий Песков заявил, что не видит препятствий для дальнейшей карьеры Бельянинова на госслужбе.\\n@highlight\\nЭкс-глава ФТС Андрей Бельянинов ожидает решения президента РФ о своем новом месте работы\\n@highlight\\nПри обысках у главы ФТС Бельянинова нашли 58 миллионов рублей\\n@highlight\\nГлаву ФТС Бельянинова отправили в отставку',\n",
    "#    'entities': [{'start': 44, 'end': 47},\n",
    "#     {'start': 49, 'end': 66},\n",
    "#     {'start': 178, 'end': 181},\n",
    "#     {'start': 230, 'end': 244},\n",
    "#     {'start': 431, 'end': 441},\n",
    "#     {'start': 582, 'end': 588},\n",
    "#     {'start': 589, 'end': 603},\n",
    "#     {'start': 660, 'end': 670},\n",
    "#     {'start': 707, 'end': 710},\n",
    "#     {'start': 711, 'end': 728},\n",
    "#     {'start': 756, 'end': 758},\n",
    "#     {'start': 817, 'end': 820},\n",
    "#     {'start': 821, 'end': 831},\n",
    "#     {'start': 876, 'end': 879},\n",
    "#     {'start': 880, 'end': 890}]},\n",
    "#   'qas': [{'query': '@placeholder подал прошение о своей отставке с поста главы ФТС в июле 2016 года.',\n",
    "#     'answers': [{'start': 56, 'end': 66, 'text': 'Бельянинов'},\n",
    "#      {'start': 431, 'end': 441, 'text': 'Бельянинов'},\n",
    "#      {'start': 660, 'end': 670, 'text': 'Бельянинов'},\n",
    "#      {'start': 718, 'end': 728, 'text': 'Бельянинов'},\n",
    "#      {'start': 821, 'end': 831, 'text': 'Бельянинов'},\n",
    "#      {'start': 880, 'end': 890, 'text': 'Бельянинов'}],\n",
    "#     'idx': 35155}]},\n",
    "\n",
    "path = 'data/rsg/RuCoS/train.jsonl'\n",
    "lines = read_lines(path)\n",
    "orig_items = list(parse_jsonl(lines))\n",
    "\n",
    "items = []\n",
    "for orig_item in orig_items:\n",
    "    text = orig_item['passage']['text']\n",
    "    text_entities = [\n",
    "        text[_['start']:_['end']]\n",
    "        for _ in orig_item['passage']['entities']\n",
    "    ]\n",
    "    text = text.replace('@highlight\\n', '- ')\n",
    "    \n",
    "    qa = random.choice(orig_item['qas'])\n",
    "    query = qa['query']\n",
    "    answer_entities = [_['text'] for _ in qa['answers']]\n",
    "    \n",
    "    target = random.random() < 0.5\n",
    "    if target:\n",
    "        entities = answer_entities\n",
    "    else:\n",
    "        entities = [\n",
    "            _ for _ in text_entities\n",
    "            if _ not in answer_entities\n",
    "        ]\n",
    "\n",
    "    if not entities:\n",
    "        continue\n",
    "\n",
    "    entity = random.choice(entities)\n",
    "    item = {\n",
    "        'id': orig_item['idx'],\n",
    "        'text': text,\n",
    "        'query': query,\n",
    "        'entity': entity,\n",
    "        'target': target\n",
    "    }\n",
    "    items.append(item)\n",
    "    \n",
    "items = (\n",
    "    random.sample([_ for _ in items if _['target'] == True], 100)\n",
    "    + random.sample([_ for _ in items if _['target'] == False], 100)\n",
    ")\n",
    "random.shuffle(items)\n",
    "\n",
    "lines = format_jsonl(items[:100])\n",
    "write_lines('tasks/rucos/test.jsonl', lines)\n",
    "lines = format_jsonl(items[50:])\n",
    "write_lines('tasks/rucos/dev.jsonl', lines)"
   ]
  },
  {
   "cell_type": "markdown",
   "id": "5614d5ed",
   "metadata": {
    "cellId": "o4a518d0rsz74ijxew2ed",
    "hidden": true
   },
   "source": [
    "## rucola"
   ]
  },
  {
   "cell_type": "code",
   "execution_count": null,
   "id": "57ec486c",
   "metadata": {
    "cellId": "len7j4gfvicrafq92urxn",
    "hidden": true
   },
   "outputs": [],
   "source": [
    "# {'id': '49',\n",
    "#  'sentence': 'Мне бы хотелось открыться кому-нибудь, но разве здесь есть такие люди, которые бы могли меня понять.',\n",
    "#  'acceptable': '1',\n",
    "#  'error_type': '0',\n",
    "#  'detailed_source': 'Seliverstova'}\n",
    "\n",
    "path = 'data/rucola/out_of_domain_dev.csv'\n",
    "items = list(read_csv(path))\n",
    "\n",
    "items = (\n",
    "    random.sample([_ for _ in items if _['acceptable'] == '0' and _['error_type'] == 'Hallucination'], 100)\n",
    "    + random.sample([_ for _ in items if _['acceptable'] == '1'], 100)\n",
    ")\n",
    "random.shuffle(items)\n",
    "for item in items:\n",
    "    item['target'] = item.pop('acceptable')\n",
    "    \n",
    "\n",
    "lines = format_jsonl(items[:100])\n",
    "write_lines('tasks/rucola/test.jsonl', lines)\n",
    "lines = format_jsonl(items[100:])\n",
    "write_lines('tasks/rucola/dev.jsonl', lines)"
   ]
  },
  {
   "cell_type": "markdown",
   "id": "3eca948b",
   "metadata": {
    "cellId": "bgksjtp820in7r53y17gwf"
   },
   "source": [
    "# eval one"
   ]
  },
  {
   "cell_type": "code",
   "execution_count": null,
   "id": "80d534c3",
   "metadata": {},
   "outputs": [],
   "source": [
    "%run -n main.py\n",
    "model = SAIGA_13B\n",
    "task = RUCOS\n",
    "\n",
    "path = f'tasks/{task}/test.jsonl'\n",
    "lines = read_lines(path)\n",
    "test_items = list(parse_jsonl(lines))\n",
    "id_test_items = {_['id']: _ for _ in test_items}"
   ]
  },
  {
   "cell_type": "code",
   "execution_count": null,
   "id": "90a55937",
   "metadata": {},
   "outputs": [],
   "source": [
    "%run -n main.py\n",
    "test_item = random.choice(test_items)\n",
    "ctx = RulmAgentContextVerbose(model)\n",
    "item = run_agent(TASK_AGENTS[task], test_item, ctx)\n",
    "print('pred:', item['pred'])"
   ]
  },
  {
   "cell_type": "code",
   "execution_count": null,
   "id": "67bb27c2",
   "metadata": {
    "scrolled": false
   },
   "outputs": [],
   "source": [
    "%run -n main.py\n",
    "items = map_agents(\n",
    "    TASK_AGENTS[task], test_items[:24],\n",
    "    partial(RulmAgentContext, model=model),\n",
    "    max_workers=4\n",
    ")\n",
    "\n",
    "eval_items = []\n",
    "for item in log_progress(items):\n",
    "    eval_items.append(item)\n",
    "\n",
    "    for message in item['messages']:\n",
    "        print(message)\n",
    "        print()\n",
    "    print('---')\n",
    "    print('pred:', item['pred'])\n",
    "    print('target:', id_test_items[item['id']]['target'])\n",
    "    print('\\n\\n')"
   ]
  },
  {
   "cell_type": "code",
   "execution_count": null,
   "id": "859b74ed",
   "metadata": {},
   "outputs": [],
   "source": [
    "id_preds = {_['id']: _['pred'] for _ in eval_items}\n",
    "id_targets = {_['id']: _['target'] for _ in test_items}"
   ]
  },
  {
   "cell_type": "code",
   "execution_count": null,
   "id": "735289bf",
   "metadata": {},
   "outputs": [],
   "source": [
    "%run -n main.py\n",
    "correct, support, total = acc_score(id_targets, id_preds)\n",
    "print(correct, support, round(correct / support, 2))"
   ]
  },
  {
   "cell_type": "code",
   "execution_count": null,
   "id": "fdf60859",
   "metadata": {},
   "outputs": [],
   "source": [
    "lines = format_jsonl(eval_items)\n",
    "path = Path(f'evals/{model}/{task}/02_0-shot_cot.jsonl')\n",
    "path.parent.mkdir(parents=True, exist_ok=True)\n",
    "write_lines(path, lines)"
   ]
  },
  {
   "cell_type": "markdown",
   "id": "e07a8462",
   "metadata": {},
   "source": [
    "# eval all"
   ]
  },
  {
   "cell_type": "code",
   "execution_count": null,
   "id": "024a0d62",
   "metadata": {
    "scrolled": false
   },
   "outputs": [],
   "source": [
    "%run -n main.py\n",
    "model = SAIGA_13B\n",
    "\n",
    "for task in TASKS:\n",
    "    task_path = f'tasks/{task}/test.jsonl'\n",
    "    lines = read_lines(task_path)\n",
    "    test_items = list(parse_jsonl(lines))\n",
    "\n",
    "    eval_path = f'evals/{model}/{task}/02_0-shot_cot.jsonl'\n",
    "    lines = read_lines(eval_path)\n",
    "    eval_items = list(parse_jsonl(lines))\n",
    "    eval_ids = {_['id'] for _ in eval_items}\n",
    "    print(task, len(eval_ids), '/', len(test_items))\n",
    "\n",
    "    items = [\n",
    "        _ for _ in test_items\n",
    "        if _['id'] not in eval_ids\n",
    "    ]\n",
    "    total = len(items)\n",
    "    items = map_agents(\n",
    "        TASK_AGENTS[task], items,\n",
    "        partial(RulmAgentContext, model=model),\n",
    "        max_workers=4,\n",
    "    )\n",
    "    items = log_progress(items, total=total)\n",
    "\n",
    "    lines = format_jsonl(items)\n",
    "    append_lines(eval_path, lines)"
   ]
  },
  {
   "cell_type": "markdown",
   "id": "13c8e5a2",
   "metadata": {},
   "source": [
    "# score"
   ]
  },
  {
   "cell_type": "code",
   "execution_count": 287,
   "id": "be58d723",
   "metadata": {},
   "outputs": [
    {
     "data": {
      "text/html": [
       "<div>\n",
       "<style scoped>\n",
       "    .dataframe tbody tr th:only-of-type {\n",
       "        vertical-align: middle;\n",
       "    }\n",
       "\n",
       "    .dataframe tbody tr th {\n",
       "        vertical-align: top;\n",
       "    }\n",
       "\n",
       "    .dataframe thead th {\n",
       "        text-align: right;\n",
       "    }\n",
       "</style>\n",
       "<table border=\"1\" class=\"dataframe\">\n",
       "  <thead>\n",
       "    <tr style=\"text-align: right;\">\n",
       "      <th>task</th>\n",
       "      <th>danetqa</th>\n",
       "      <th>muserc</th>\n",
       "      <th>rucos</th>\n",
       "      <th>terra</th>\n",
       "      <th>rcb</th>\n",
       "      <th>parus</th>\n",
       "      <th>russe</th>\n",
       "      <th>rwsd</th>\n",
       "    </tr>\n",
       "    <tr>\n",
       "      <th>model</th>\n",
       "      <th></th>\n",
       "      <th></th>\n",
       "      <th></th>\n",
       "      <th></th>\n",
       "      <th></th>\n",
       "      <th></th>\n",
       "      <th></th>\n",
       "      <th></th>\n",
       "    </tr>\n",
       "  </thead>\n",
       "  <tbody>\n",
       "    <tr>\n",
       "      <th>openai_turbo</th>\n",
       "      <td>0.90</td>\n",
       "      <td>0.86, 6!</td>\n",
       "      <td>0.73</td>\n",
       "      <td>0.86</td>\n",
       "      <td>0.65</td>\n",
       "      <td>0.94, 33!</td>\n",
       "      <td>0.60</td>\n",
       "      <td>0.63, 1!</td>\n",
       "    </tr>\n",
       "    <tr>\n",
       "      <th>saiga_7b</th>\n",
       "      <td>0.70, 4!</td>\n",
       "      <td>0.65</td>\n",
       "      <td>0.49</td>\n",
       "      <td>0.65</td>\n",
       "      <td>0.57</td>\n",
       "      <td>0.51, 27!</td>\n",
       "      <td>0.52</td>\n",
       "      <td>0.51</td>\n",
       "    </tr>\n",
       "    <tr>\n",
       "      <th>saiga_13b</th>\n",
       "      <td>0.54</td>\n",
       "      <td>0.75</td>\n",
       "      <td>0.50</td>\n",
       "      <td>0.76</td>\n",
       "      <td>0.54, 1!</td>\n",
       "      <td>0.54, 59!</td>\n",
       "      <td>0.52</td>\n",
       "      <td>0.57</td>\n",
       "    </tr>\n",
       "  </tbody>\n",
       "</table>\n",
       "</div>"
      ],
      "text/plain": [
       "task           danetqa    muserc rucos terra       rcb      parus russe  \\\n",
       "model                                                                     \n",
       "openai_turbo      0.90  0.86, 6!  0.73  0.86      0.65  0.94, 33!  0.60   \n",
       "saiga_7b      0.70, 4!      0.65  0.49  0.65      0.57  0.51, 27!  0.52   \n",
       "saiga_13b         0.54      0.75  0.50  0.76  0.54, 1!  0.54, 59!  0.52   \n",
       "\n",
       "task              rwsd  \n",
       "model                   \n",
       "openai_turbo  0.63, 1!  \n",
       "saiga_7b          0.51  \n",
       "saiga_13b         0.57  "
      ]
     },
     "execution_count": 287,
     "metadata": {},
     "output_type": "execute_result"
    }
   ],
   "source": [
    "%run -n main.py\n",
    "data = []\n",
    "for model in [OPENAI_TURBO, SAIGA_7B, SAIGA_13B]:\n",
    "    for task in TASKS:\n",
    "        path = f'tasks/{task}/test.jsonl'\n",
    "        lines = read_lines(path)\n",
    "        task_items = list(parse_jsonl(lines))\n",
    "        \n",
    "        path = f'evals/{model}/{task}/02_0-shot_cot.jsonl'\n",
    "        lines = read_lines(path)\n",
    "        eval_items = list(parse_jsonl(lines))\n",
    "        \n",
    "        id_targets = {_['id']: _['target'] for _ in task_items}\n",
    "        id_preds = {_['id']: _['pred'] for _ in eval_items}\n",
    "        \n",
    "        correct, support, total = acc_score(id_targets, id_preds)\n",
    "        if not total:\n",
    "            continue\n",
    "        total = 100\n",
    "        acc = correct / support\n",
    "        \n",
    "        data.append([model, task, acc, support, total])\n",
    "\n",
    "rows = []        \n",
    "for model, task, acc, support, total in data:\n",
    "    value = '%.2f' % acc\n",
    "    undef = total - support\n",
    "    if undef:\n",
    "        value += ', %d!' % undef\n",
    "\n",
    "    rows.append((model, task, value))\n",
    "\n",
    "table = pd.DataFrame(rows, columns=['model', 'task', 'score'])\n",
    "table = table.pivot(index='model', columns='task', values='score')\n",
    "table = table.fillna('-')\n",
    "table = table.reindex(\n",
    "    columns=TASKS,\n",
    "    index=[OPENAI_TURBO, SAIGA_7B, SAIGA_13B]\n",
    ")\n",
    "table "
   ]
  },
  {
   "cell_type": "markdown",
   "id": "0f1f1add",
   "metadata": {},
   "source": [
    "# evals view"
   ]
  },
  {
   "cell_type": "code",
   "execution_count": null,
   "id": "f9fb4d8b",
   "metadata": {},
   "outputs": [],
   "source": [
    "%run -n main.py\n",
    "tasks = TASKS\n",
    "models = MODELS\n",
    "\n",
    "task_samples = {}\n",
    "for task in tasks:\n",
    "    path = f'tasks/{task}/test.jsonl'\n",
    "    lines = read_lines(path)\n",
    "    items = parse_jsonl(lines)\n",
    "    id_targets = {_['id']: _['target'] for _ in items}\n",
    "\n",
    "    id_model_items = defaultdict(dict)\n",
    "    for model in models:\n",
    "        path = f'evals/{model}/{task}/02_0-shot_cot.jsonl'\n",
    "        lines = read_lines(path)\n",
    "        items = parse_jsonl(lines)\n",
    "        for item in items:\n",
    "            id_model_items[item['id']][model] = item\n",
    "\n",
    "    ids = random.sample(list(id_model_items), 10)\n",
    "    samples = []\n",
    "    for id in ids:\n",
    "        target = id_targets[id]\n",
    "        model_items = id_model_items[id]\n",
    "        samples.append({\n",
    "            'id': id,\n",
    "            'target': target,\n",
    "            'model_items': model_items\n",
    "        })\n",
    "    task_samples[task] = samples"
   ]
  },
  {
   "cell_type": "code",
   "execution_count": null,
   "id": "e84e31c3",
   "metadata": {},
   "outputs": [],
   "source": [
    "def format(text):\n",
    "    text = text.replace('```', \"'''\")\n",
    "    text = text.replace('\\n', '<br/>')\n",
    "    return text\n",
    "\n",
    "\n",
    "with open('evals/view.md', 'w') as file:\n",
    "    for task in tasks:\n",
    "        print(f'- [{task}](#{task})', file=file)\n",
    "\n",
    "    for task in tasks:\n",
    "        print(f'<h2>{task}</h2>', file=file)\n",
    "        samples = task_samples[task]\n",
    "    \n",
    "        for sample in samples:\n",
    "            print(f'<h4>#{sample[\"id\"]}</h4>', file=file)\n",
    "\n",
    "            model_items = sample['model_items']\n",
    "            prompt = model_items[models[0]]['messages'][0]\n",
    "            print(f'''\n",
    "{format(prompt)}\n",
    "<br/>\n",
    "''', file=file)\n",
    "            print('<table>', file=file)\n",
    "            print(f'''\n",
    "<tr>\n",
    "<td>target</td>\n",
    "<td>{sample[\"target\"]}</td>\n",
    "</tr>\n",
    "''', file=file)\n",
    "            for model in models:\n",
    "                item = model_items.get(model)\n",
    "                if not item:\n",
    "                    continue\n",
    "\n",
    "                print(f'''\n",
    "<tr>\n",
    "<td>{model}</td>\n",
    "<td>{item[\"pred\"]}</td>\n",
    "<td>''', file=file)\n",
    "                messages = item['messages']\n",
    "                assert prompt == messages[0]\n",
    "                text = '\\n\\n'.join(messages[1:])\n",
    "                print(f'''\n",
    "{format(text)}\n",
    "</td>\n",
    "''', file=file)\n",
    "                print('</tr>', file=file)\n",
    "            print('</table>', file=file)"
   ]
  },
  {
   "cell_type": "code",
   "execution_count": null,
   "id": "79700af6",
   "metadata": {},
   "outputs": [],
   "source": [
    "%run -n main.py\n",
    "for task in tasks:\n",
    "    show_html(f'<h2>{task}</h2><hr/>')\n",
    "    samples = task_samples[task]\n",
    "    \n",
    "    for sample in samples:\n",
    "        show_html(f'<h3>#{sample[\"id\"]}</h3>')\n",
    "\n",
    "        model_items = sample['model_items']\n",
    "        model = models[0]\n",
    "        prompt = model_items[model]['messages'][0]\n",
    "        print(prompt)\n",
    "        print()\n",
    "        print('target:', sample['target'])\n",
    "\n",
    "        for model in models:\n",
    "            item = model_items.get(model)\n",
    "            if not item:\n",
    "                continue\n",
    "\n",
    "            messages = item['messages']\n",
    "            assert prompt == messages[0]\n",
    "\n",
    "            show_html(f'<h5>{model}</h5>')\n",
    "            for message in messages[1:]:\n",
    "                print(message)\n",
    "                print()\n",
    "            print('pred:', item['pred'])"
   ]
  }
 ],
 "metadata": {
  "kernelspec": {
   "display_name": "rulm-sbs",
   "language": "python",
   "name": "rulm-sbs"
  },
  "language_info": {
   "codemirror_mode": {
    "name": "ipython",
    "version": 3
   },
   "file_extension": ".py",
   "mimetype": "text/x-python",
   "name": "python",
   "nbconvert_exporter": "python",
   "pygments_lexer": "ipython3",
   "version": "3.10.8"
  },
  "notebookId": "c17751d3-4b57-40b0-b19b-01f455662e3c",
  "notebookPath": "rulm-eval/main.ipynb"
 },
 "nbformat": 4,
 "nbformat_minor": 5
}
