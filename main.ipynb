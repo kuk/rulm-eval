{
 "cells": [
  {
   "cell_type": "code",
   "execution_count": 1,
   "id": "0b6c78eb",
   "metadata": {},
   "outputs": [],
   "source": [
    "%run -n main.py\n",
    "lines = read_lines(DOTENV_PATH)\n",
    "pairs = parse_dotenv(lines)\n",
    "os.environ.update(pairs)\n",
    "%run -n main.py"
   ]
  },
  {
   "cell_type": "markdown",
   "id": "cbe2b66c",
   "metadata": {},
   "source": [
    "# tasks"
   ]
  },
  {
   "cell_type": "markdown",
   "id": "b6cdc2f6",
   "metadata": {},
   "source": [
    "## terra"
   ]
  },
  {
   "cell_type": "code",
   "execution_count": null,
   "id": "0c1ac4b5",
   "metadata": {},
   "outputs": [],
   "source": [
    "path = 'data/rsg/TERRa/val.jsonl'\n",
    "lines = read_lines(path)\n",
    "items = list(parse_jsonl(lines))"
   ]
  },
  {
   "cell_type": "code",
   "execution_count": null,
   "id": "32279ea0",
   "metadata": {},
   "outputs": [],
   "source": [
    "random.seed(0)\n",
    "items = (\n",
    "    random.sample([_ for _ in items if _['label'] == 'entailment'], 50)\n",
    "    + random.sample([_ for _ in items if _['label'] == 'not_entailment'], 50)\n",
    ")\n",
    "random.shuffle(items)\n",
    "for item in items:\n",
    "    item['id'] = item.pop('idx')"
   ]
  },
  {
   "cell_type": "code",
   "execution_count": null,
   "id": "3f9c871c",
   "metadata": {},
   "outputs": [],
   "source": [
    "lines = format_jsonl(items)\n",
    "write_lines('tasks/terra.jsonl', lines)"
   ]
  },
  {
   "cell_type": "markdown",
   "id": "4be69595",
   "metadata": {},
   "source": [
    "## danetqa"
   ]
  },
  {
   "cell_type": "code",
   "execution_count": null,
   "id": "a20c88ae",
   "metadata": {},
   "outputs": [],
   "source": [
    "path = 'data/rsg/DaNetQA/val.jsonl'\n",
    "lines = read_lines(path)\n",
    "items = list(parse_jsonl(lines))"
   ]
  },
  {
   "cell_type": "code",
   "execution_count": null,
   "id": "735b3943",
   "metadata": {},
   "outputs": [],
   "source": [
    "random.seed(0)\n",
    "items = (\n",
    "    random.sample([_ for _ in items if _['label'] is True], 50)\n",
    "    + random.sample([_ for _ in items if _['label'] is False], 50)\n",
    ")\n",
    "random.shuffle(items)\n",
    "for item in items:\n",
    "    item['id'] = item.pop('idx')"
   ]
  },
  {
   "cell_type": "code",
   "execution_count": null,
   "id": "cfd704fd",
   "metadata": {},
   "outputs": [],
   "source": [
    "lines = format_jsonl(items)\n",
    "write_lines('tasks/danetqa.jsonl', lines)"
   ]
  },
  {
   "cell_type": "markdown",
   "id": "9323514c",
   "metadata": {},
   "source": [
    "## parus"
   ]
  },
  {
   "cell_type": "code",
   "execution_count": null,
   "id": "be3dffc2",
   "metadata": {},
   "outputs": [],
   "source": [
    "path = 'data/rsg/PARus/val.jsonl'\n",
    "lines = read_lines(path)\n",
    "items = list(parse_jsonl(lines))"
   ]
  },
  {
   "cell_type": "code",
   "execution_count": null,
   "id": "053117ad",
   "metadata": {},
   "outputs": [],
   "source": [
    "random.seed(0)\n",
    "items = (\n",
    "    random.sample([_ for _ in items if _['question'] == 'effect'], 48)\n",
    "    + random.sample([_ for _ in items if _['question'] == 'cause'], 52)\n",
    ")\n",
    "random.shuffle(items)\n",
    "for item in items:\n",
    "    item['id'] = item.pop('idx')"
   ]
  },
  {
   "cell_type": "code",
   "execution_count": null,
   "id": "a7baf73b",
   "metadata": {},
   "outputs": [],
   "source": [
    "lines = format_jsonl(items)\n",
    "write_lines('tasks/parus.jsonl', lines)"
   ]
  },
  {
   "cell_type": "markdown",
   "id": "73b1b06a",
   "metadata": {},
   "source": [
    "## rwsd"
   ]
  },
  {
   "cell_type": "code",
   "execution_count": 55,
   "id": "d5ba736a",
   "metadata": {},
   "outputs": [],
   "source": [
    "path = 'data/rsg/RWSD/val.jsonl'\n",
    "lines = read_lines(path)\n",
    "items = list(parse_jsonl(lines))"
   ]
  },
  {
   "cell_type": "code",
   "execution_count": 67,
   "id": "75c14831",
   "metadata": {},
   "outputs": [],
   "source": [
    "random.seed(0)\n",
    "items = (\n",
    "    random.sample([_ for _ in items if _['label'] == True], 50)\n",
    "    + random.sample([_ for _ in items if _['label'] == False], 50)\n",
    ")\n",
    "random.shuffle(items)\n",
    "for item in items:\n",
    "    item['id'] = item.pop('idx')"
   ]
  },
  {
   "cell_type": "code",
   "execution_count": 69,
   "id": "fa5c1abe",
   "metadata": {},
   "outputs": [],
   "source": [
    "lines = format_jsonl(items)\n",
    "write_lines('tasks/rwsd.jsonl', lines)"
   ]
  },
  {
   "cell_type": "markdown",
   "id": "feeecb6d",
   "metadata": {},
   "source": [
    "## russe"
   ]
  },
  {
   "cell_type": "code",
   "execution_count": 70,
   "id": "005e4dc2",
   "metadata": {},
   "outputs": [],
   "source": [
    "path = 'data/rsg/RUSSE/val.jsonl'\n",
    "lines = read_lines(path)\n",
    "items = list(parse_jsonl(lines))"
   ]
  },
  {
   "cell_type": "code",
   "execution_count": 77,
   "id": "f04d0867",
   "metadata": {},
   "outputs": [],
   "source": [
    "random.seed(0)\n",
    "items = (\n",
    "    random.sample([_ for _ in items if _['label'] == True], 50)\n",
    "    + random.sample([_ for _ in items if _['label'] == False], 50)\n",
    ")\n",
    "random.shuffle(items)\n",
    "for item in items:\n",
    "    item['id'] = item.pop('idx')"
   ]
  },
  {
   "cell_type": "code",
   "execution_count": 78,
   "id": "66593c21",
   "metadata": {},
   "outputs": [],
   "source": [
    "lines = format_jsonl(items)\n",
    "write_lines('tasks/russe.jsonl', lines)"
   ]
  },
  {
   "cell_type": "markdown",
   "id": "d3615b7d",
   "metadata": {},
   "source": [
    "## muserc"
   ]
  },
  {
   "cell_type": "code",
   "execution_count": null,
   "id": "d3b10b69",
   "metadata": {},
   "outputs": [],
   "source": [
    "path = 'data/rsg/MuSeRC//val.jsonl'\n",
    "lines = read_lines(path)\n",
    "items = list(parse_jsonl(lines))"
   ]
  },
  {
   "cell_type": "code",
   "execution_count": null,
   "id": "a8d008b5",
   "metadata": {},
   "outputs": [],
   "source": []
  },
  {
   "cell_type": "markdown",
   "id": "9c54ac4c",
   "metadata": {},
   "source": [
    "# eval"
   ]
  },
  {
   "cell_type": "code",
   "execution_count": 137,
   "id": "615bdf81",
   "metadata": {},
   "outputs": [],
   "source": [
    "%run -n main.py\n",
    "task = RUSSE\n",
    "eval = '11_turbo_russe'"
   ]
  },
  {
   "cell_type": "code",
   "execution_count": 138,
   "id": "976a8022",
   "metadata": {
    "scrolled": false
   },
   "outputs": [],
   "source": [
    "%run -n main.py\n",
    "lines = read_lines(f'tasks/{task}.jsonl')\n",
    "task_items = list(parse_jsonl(lines))"
   ]
  },
  {
   "cell_type": "code",
   "execution_count": 139,
   "id": "3855b192",
   "metadata": {},
   "outputs": [
    {
     "data": {
      "text/plain": [
       "{'text': 'На вывесках над дверями лавочек были изображения, показывающие, какого рода работы выполняют внутри. Хотя все больше людей учились читать, каждый ремесленник все еще использовал такие знаки, не желая потерять возможного клиента только потому, что он оказался неграмотным.',\n",
       " 'target': {'span2_index': 34,\n",
       "  'span1_index': 30,\n",
       "  'span1_text': 'клиента',\n",
       "  'span2_text': 'он'},\n",
       " 'label': True,\n",
       " 'id': 50}"
      ]
     },
     "execution_count": 139,
     "metadata": {},
     "output_type": "execute_result"
    }
   ],
   "source": [
    "task_item"
   ]
  },
  {
   "cell_type": "code",
   "execution_count": 144,
   "id": "a6a8a51d",
   "metadata": {},
   "outputs": [
    {
     "name": "stdout",
     "output_type": "stream",
     "text": [
      "Does Word have the same meaning in Sentence A and Sentence B?\n",
      "Keep it short, respond Yes or No.\n",
      "---\n",
      "Word: дорожка\n",
      "Sentence A: Бурые ковровые дорожки заглушали шаги\n",
      "Sentence B: Приятели решили выпить на дорожку в местном баре\n",
      "Answer: No\n",
      "---\n",
      "Word: защита\n",
      "Sentence A: Как изменится защита Динамо в новом сезоне?\n",
      "Sentence B: Обе партии протекали одинаково: в обеих была разыграна французская защита\n",
      "Answer: Yes\n",
      "---\n",
      "Word: жилец\n",
      "Sentence A: По домам ходили агитаторы. Уговаривали жильцов проголосовать как можно раньше\n",
      "Sentence B: Передай вашему жильцу, что он должен непременно учиться\n",
      "Answer: \n"
     ]
    }
   ],
   "source": [
    "%run -n main.py\n",
    "task_item = random.choice(task_items)\n",
    "prompt = TASK_PROMPTS[task](task_item)\n",
    "print(prompt)"
   ]
  },
  {
   "cell_type": "code",
   "execution_count": 145,
   "id": "c31e0bac",
   "metadata": {},
   "outputs": [
    {
     "name": "stdout",
     "output_type": "stream",
     "text": [
      "Yes\n"
     ]
    }
   ],
   "source": [
    "%run -n main.py\n",
    "response = openai_chat_completions(prompt, model=GPT_35_TURBO_0301, stop='---')\n",
    "print(response)"
   ]
  },
  {
   "cell_type": "code",
   "execution_count": 152,
   "id": "72406cea",
   "metadata": {},
   "outputs": [
    {
     "data": {
      "text/plain": [
       "11"
      ]
     },
     "execution_count": 152,
     "metadata": {},
     "output_type": "execute_result"
    }
   ],
   "source": [
    "path = Path(f'evals/{eval}.jsonl')\n",
    "eval_items = []\n",
    "if path.exists():\n",
    "    lines = read_lines(path)\n",
    "    eval_items.extend(parse_jsonl(lines))\n",
    "len(eval_items)"
   ]
  },
  {
   "cell_type": "code",
   "execution_count": 153,
   "id": "19d3a577",
   "metadata": {},
   "outputs": [
    {
     "name": "stderr",
     "output_type": "stream",
     "text": [
      "100%|██████████| 89/89 [04:46<00:00,  3.22s/it]\n"
     ]
    }
   ],
   "source": [
    "%run -n main.py\n",
    "cache_ids = {_['id'] for _ in eval_items}\n",
    "nocache_task_items = [_ for _ in task_items if _['id'] not in cache_ids]\n",
    "\n",
    "for task_item in log_progress(nocache_task_items):\n",
    "    prompt = TASK_PROMPTS[task](task_item)\n",
    "\n",
    "    response = openai_chat_completions(prompt, model=GPT_35_TURBO_0301, stop='---')\n",
    "    sleep(2)\n",
    "\n",
    "    # response = cohere_generate(prompt, end_sequences=['---'])\n",
    "    # sleep(12)\n",
    "\n",
    "    eval_items.append({\n",
    "        'id': task_item['id'],\n",
    "        'response': response\n",
    "    })\n"
   ]
  },
  {
   "cell_type": "code",
   "execution_count": 148,
   "id": "8df3c721",
   "metadata": {},
   "outputs": [
    {
     "data": {
      "text/plain": [
       "[{'id': 2699, 'response': 'Yes'},\n",
       " {'id': 3214, 'response': 'No'},\n",
       " {'id': 6339, 'response': 'No'},\n",
       " {'id': 1064, 'response': 'Yes'},\n",
       " {'id': 2673, 'response': 'No'},\n",
       " {'id': 6212, 'response': 'Yes'},\n",
       " {'id': 1104, 'response': 'Yes'},\n",
       " {'id': 6190, 'response': 'No'},\n",
       " {'id': 1196, 'response': 'Yes'},\n",
       " {'id': 3420, 'response': 'Yes'},\n",
       " {'id': 7150, 'response': 'No'}]"
      ]
     },
     "execution_count": 148,
     "metadata": {},
     "output_type": "execute_result"
    }
   ],
   "source": [
    "eval_items"
   ]
  },
  {
   "cell_type": "code",
   "execution_count": 149,
   "id": "dc275c2e",
   "metadata": {},
   "outputs": [
    {
     "data": {
      "text/plain": [
       "[False, False, False, True, True, True, True, False, False, False]"
      ]
     },
     "execution_count": 149,
     "metadata": {},
     "output_type": "execute_result"
    }
   ],
   "source": [
    "[_['label'] for _ in task_items[:10]]"
   ]
  },
  {
   "cell_type": "code",
   "execution_count": 154,
   "id": "910137d8",
   "metadata": {},
   "outputs": [],
   "source": [
    "lines = format_jsonl(eval_items)\n",
    "write_lines(f'evals/{eval}.jsonl', lines)"
   ]
  },
  {
   "cell_type": "markdown",
   "id": "f2a0e5a5",
   "metadata": {},
   "source": [
    "# score"
   ]
  },
  {
   "cell_type": "code",
   "execution_count": 155,
   "id": "fa659c5d",
   "metadata": {},
   "outputs": [
    {
     "data": {
      "text/plain": [
       "[('text-davinci-003', 'terra', (0.91, 0)),\n",
       " ('text-davinci-003', 'danetqa', (0.79, 0)),\n",
       " ('text-davinci-003', 'parus', (0.93, 0)),\n",
       " ('gpt-3.5-turbo-0301', 'parus', (0.9130434782608695, 8)),\n",
       " ('gpt-3.5-turbo-0301', 'danetqa', (0.8350515463917526, 3)),\n",
       " ('gpt-3.5-turbo-0301', 'terra', (0.86, 0)),\n",
       " ('xlarge', 'parus', (0.54, 0)),\n",
       " ('xlarge', 'danetqa', (0.5, 0)),\n",
       " ('xlarge', 'terra', (0.72, 0)),\n",
       " ('gpt-3.5-turbo-0301', 'rwsd', (0.5656565656565656, 1)),\n",
       " ('gpt-3.5-turbo-0301', 'russe', (0.65, 0))]"
      ]
     },
     "execution_count": 155,
     "metadata": {},
     "output_type": "execute_result"
    }
   ],
   "source": [
    "%run -n main.py\n",
    "model_task_evals = [\n",
    "    (TEXT_DAVINCHI_003, TERRA, '01_davinci_terra'),\n",
    "    (TEXT_DAVINCHI_003, DANETQA, '02_davinci_danetqa'),\n",
    "    (TEXT_DAVINCHI_003, PARUS, '03_davinci_parus'),\n",
    "    (GPT_35_TURBO_0301, PARUS, '04_turbo_parus'),\n",
    "    (GPT_35_TURBO_0301, DANETQA, '05_turbo_danetqa'),\n",
    "    (GPT_35_TURBO_0301, TERRA, '06_turbo_terra'),\n",
    "    (COHERE_XLARGE, PARUS, '07_cohere_parus'),\n",
    "    (COHERE_XLARGE, DANETQA, '08_cohere_danetqa'),\n",
    "    (COHERE_XLARGE, TERRA, '09_cohere_terra'),\n",
    "    (GPT_35_TURBO_0301, RWSD, '10_turbo_rwsd'),\n",
    "    (GPT_35_TURBO_0301, RUSSE, '11_turbo_russe'),\n",
    "]\n",
    "data = []\n",
    "for model, task, eval in model_task_evals:\n",
    "    lines = read_lines(f'tasks/{task}.jsonl')\n",
    "    id_targets = {\n",
    "        _['id']: _['label']\n",
    "        for _ in parse_jsonl(lines)\n",
    "    }\n",
    "    \n",
    "    lines = read_lines(f'evals/{eval}.jsonl')\n",
    "    norm_response = NORM_RESPONSES[task]\n",
    "    id_preds = {\n",
    "        _['id']: norm_response(_['response'])\n",
    "        for _ in parse_jsonl(lines)\n",
    "    }\n",
    "    score = acc_score(id_targets, id_preds)\n",
    "    data.append((model, task, score))\n",
    "data"
   ]
  },
  {
   "cell_type": "markdown",
   "id": "057cd928",
   "metadata": {
    "heading_collapsed": true
   },
   "source": [
    "# explore"
   ]
  },
  {
   "cell_type": "code",
   "execution_count": 131,
   "id": "52df9d9d",
   "metadata": {
    "hidden": true,
    "scrolled": false
   },
   "outputs": [],
   "source": [
    "# lines = read_lines(f'tasks/{task}.jsonl')\n",
    "# id_task_items = {\n",
    "#     _['id']: _\n",
    "#     for _ in parse_jsonl(lines)\n",
    "# }\n",
    "\n",
    "# for id, task_item in id_task_items.items():\n",
    "#     target = id_targets[id]\n",
    "#     pred = id_preds[id]\n",
    "#     if target == pred:\n",
    "#         continue\n",
    "        \n",
    "#     display(task_item)\n",
    "#     display(target)\n",
    "#     display(pred)"
   ]
  },
  {
   "cell_type": "code",
   "execution_count": null,
   "id": "47868c8c",
   "metadata": {
    "hidden": true
   },
   "outputs": [],
   "source": []
  }
 ],
 "metadata": {
  "kernelspec": {
   "display_name": "rulm-eval",
   "language": "python",
   "name": "rulm-eval"
  },
  "language_info": {
   "codemirror_mode": {
    "name": "ipython",
    "version": 3
   },
   "file_extension": ".py",
   "mimetype": "text/x-python",
   "name": "python",
   "nbconvert_exporter": "python",
   "pygments_lexer": "ipython3",
   "version": "3.10.8"
  }
 },
 "nbformat": 4,
 "nbformat_minor": 5
}
